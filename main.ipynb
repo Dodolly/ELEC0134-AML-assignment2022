{
  "cells": [
    {
      "cell_type": "code",
      "source": [
        "from google.colab import drive\n",
        "ROOT = \"/content/drive\"\n",
        "drive.mount(ROOT)"
      ],
      "metadata": {
        "colab": {
          "base_uri": "https://localhost:8080/"
        },
        "id": "yG94yeD7NQzQ",
        "outputId": "be65b699-5a56-4518-e80f-11db65a43dd3"
      },
      "execution_count": null,
      "outputs": [
        {
          "output_type": "stream",
          "name": "stdout",
          "text": [
            "Drive already mounted at /content/drive; to attempt to forcibly remount, call drive.mount(\"/content/drive\", force_remount=True).\n"
          ]
        }
      ]
    },
    {
      "cell_type": "code",
      "source": [
        "# change directory to the database\n",
        "%cd '/content/drive/MyDrive/Colab Notebooks/AML_22-23_SN19017126'"
      ],
      "metadata": {
        "colab": {
          "base_uri": "https://localhost:8080/"
        },
        "id": "gjS_FVwBNQwu",
        "outputId": "9a63688e-ab1c-497b-ed04-f5e3f4a7132c"
      },
      "execution_count": null,
      "outputs": [
        {
          "output_type": "stream",
          "name": "stdout",
          "text": [
            "/content/drive/MyDrive/Colab Notebooks/AML_22-23_SN19017126\n"
          ]
        }
      ]
    },
    {
      "cell_type": "code",
      "source": [
        "import import_ipynb"
      ],
      "metadata": {
        "id": "O6geYm9INQuH"
      },
      "execution_count": null,
      "outputs": []
    },
    {
      "cell_type": "code",
      "source": [
        "import A1"
      ],
      "metadata": {
        "id": "_i75QoGHNyQI"
      },
      "execution_count": null,
      "outputs": []
    },
    {
      "cell_type": "code",
      "execution_count": null,
      "metadata": {
        "id": "N9NtJkJfsybo",
        "colab": {
          "base_uri": "https://localhost:8080/"
        },
        "outputId": "f018c50b-8bbe-4fee-b2fb-2d836a2cabd2"
      },
      "outputs": [
        {
          "output_type": "stream",
          "name": "stdout",
          "text": [
            "              precision    recall  f1-score   support\n",
            "\n",
            "          -1       0.90      0.91      0.91       500\n",
            "           1       0.91      0.90      0.91       500\n",
            "\n",
            "    accuracy                           0.91      1000\n",
            "   macro avg       0.91      0.91      0.91      1000\n",
            "weighted avg       0.91      0.91      0.91      1000\n",
            "\n",
            "Accuracy of Logistic Regression model: 90.70%\n"
          ]
        }
      ],
      "source": [
        "print(classification_report(y_test, y_pred_lr))\n",
        "print(\"Accuracy of Logistic Regression model: {:.2f}%\".format(accuracy_lr*100))"
      ]
    },
    {
      "cell_type": "code",
      "source": [
        "import A2"
      ],
      "metadata": {
        "id": "990Q2aiaN372"
      },
      "execution_count": null,
      "outputs": []
    },
    {
      "cell_type": "code",
      "execution_count": null,
      "metadata": {
        "colab": {
          "base_uri": "https://localhost:8080/"
        },
        "outputId": "486bfd98-f4ed-48bd-e16e-922eb44bea8d",
        "id": "vDKYerN_WWPa"
      },
      "outputs": [
        {
          "output_type": "stream",
          "name": "stdout",
          "text": [
            "              precision    recall  f1-score   support\n",
            "\n",
            "          -1       0.88      0.84      0.86       500\n",
            "           1       0.85      0.89      0.87       500\n",
            "\n",
            "    accuracy                           0.87      1000\n",
            "   macro avg       0.87      0.87      0.87      1000\n",
            "weighted avg       0.87      0.87      0.87      1000\n",
            "\n",
            "Accuracy of Logistic Regression model: 86.60%\n"
          ]
        }
      ],
      "source": [
        "print(classification_report(y_test, y_pred_lr))\n",
        "print(\"Accuracy of Logistic Regression model: {:.2f}%\".format(accuracy_lr*100))"
      ]
    },
    {
      "cell_type": "code",
      "source": [
        "import B1"
      ],
      "metadata": {
        "id": "yzgvMK0ZN3wn"
      },
      "execution_count": null,
      "outputs": []
    },
    {
      "cell_type": "code",
      "execution_count": null,
      "metadata": {
        "id": "Fzc67EFz0na9",
        "colab": {
          "base_uri": "https://localhost:8080/"
        },
        "outputId": "0dea682c-e6d1-4e2c-f34f-2217e80158ab"
      },
      "outputs": [
        {
          "output_type": "stream",
          "name": "stdout",
          "text": [
            "              precision    recall  f1-score   support\n",
            "\n",
            "           0       0.93      0.87      0.90       500\n",
            "           1       0.81      0.86      0.84       500\n",
            "           2       0.94      0.95      0.94       500\n",
            "           3       0.88      0.88      0.88       500\n",
            "           4       0.96      0.95      0.95       500\n",
            "\n",
            "    accuracy                           0.90      2500\n",
            "   macro avg       0.90      0.90      0.90      2500\n",
            "weighted avg       0.90      0.90      0.90      2500\n",
            "\n",
            "Accuracy of CNN model: 90.32%\n"
          ]
        }
      ],
      "source": [
        "print(classification_report(test_generator.classes, B1_pred_cnn ))\n",
        "print(\"Accuracy of CNN model: {:.2f}%\".format(accuracy_cnn*100))"
      ]
    },
    {
      "cell_type": "code",
      "source": [
        "import B2"
      ],
      "metadata": {
        "id": "xs8JVhYhU_hG"
      },
      "execution_count": null,
      "outputs": []
    },
    {
      "cell_type": "code",
      "source": [
        "print(classification_report(test_generator.classes, B2_pred_cnn ))\n",
        "print(\"Accuracy of CNN model: {:.2f}%\".format(accuracy_cnn*100))"
      ],
      "metadata": {
        "colab": {
          "base_uri": "https://localhost:8080/"
        },
        "outputId": "24f5e046-2e49-4979-898b-44cedfa95239",
        "id": "PSep3zDpWKcg"
      },
      "execution_count": null,
      "outputs": [
        {
          "output_type": "stream",
          "name": "stdout",
          "text": [
            "              precision    recall  f1-score   support\n",
            "\n",
            "           0       0.98      0.76      0.86       506\n",
            "           1       0.92      0.80      0.85       483\n",
            "           2       0.61      0.96      0.75       525\n",
            "           3       0.89      0.81      0.85       514\n",
            "           4       0.97      0.82      0.89       472\n",
            "\n",
            "    accuracy                           0.83      2500\n",
            "   macro avg       0.88      0.83      0.84      2500\n",
            "weighted avg       0.87      0.83      0.84      2500\n",
            "\n",
            "Accuracy of CNN model: 83.16%\n"
          ]
        }
      ]
    },
    {
      "cell_type": "code",
      "source": [
        "# create header\n",
        "head = [\"Tasks\", \"Model\", \"Test Accuracy %\"]\n",
        "\n",
        "# assign data\n",
        "result = [\n",
        "          [\"A1\", \"Logistic Regression\", '90.7%'],\n",
        "          [\"A2\", \"Logistic Regression\", '86.6%'],\n",
        "          [\"B1\", \"CNN\", '90.32%'],\n",
        "          [\"B2\", \"CNN\", '83.16%']\n",
        "]"
      ],
      "metadata": {
        "id": "0e1CtdY-VOal"
      },
      "execution_count": null,
      "outputs": []
    },
    {
      "cell_type": "code",
      "source": [
        "from tabulate import tabulate\n",
        "\n",
        "# display table\n",
        "print(tabulate(result, headers=head, tablefmt=\"grid\"))"
      ],
      "metadata": {
        "colab": {
          "base_uri": "https://localhost:8080/"
        },
        "id": "PjIF-l0xVO7d",
        "outputId": "d9b1dd9c-aa66-4bbf-d20f-bb0f89b095db"
      },
      "execution_count": null,
      "outputs": [
        {
          "output_type": "stream",
          "name": "stdout",
          "text": [
            "+---------+---------------------+-------------------+\n",
            "| Tasks   | Model               | Test Accuracy %   |\n",
            "+=========+=====================+===================+\n",
            "| A1      | Logistic Regression | 90.7%             |\n",
            "+---------+---------------------+-------------------+\n",
            "| A2      | Logistic Regression | 86.6%             |\n",
            "+---------+---------------------+-------------------+\n",
            "| B1      | CNN                 | 90.32%            |\n",
            "+---------+---------------------+-------------------+\n",
            "| B2      | CNN                 | 83.16%            |\n",
            "+---------+---------------------+-------------------+\n"
          ]
        }
      ]
    },
    {
      "cell_type": "code",
      "source": [],
      "metadata": {
        "id": "ZE0EU35CWxn5"
      },
      "execution_count": null,
      "outputs": []
    }
  ],
  "metadata": {
    "colab": {
      "provenance": [],
      "machine_shape": "hm"
    },
    "gpuClass": "standard",
    "kernelspec": {
      "display_name": "Python 3",
      "name": "python3"
    },
    "language_info": {
      "name": "python"
    }
  },
  "nbformat": 4,
  "nbformat_minor": 0
}