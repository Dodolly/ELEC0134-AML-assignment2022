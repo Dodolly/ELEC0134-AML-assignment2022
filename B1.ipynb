{
  "cells": [
    {
      "cell_type": "code",
      "execution_count": null,
      "metadata": {
        "colab": {
          "base_uri": "https://localhost:8080/"
        },
        "id": "jNcTp1XkWzwE",
        "outputId": "d6733516-5223-44ba-98e8-a3ba609d2bcb"
      },
      "outputs": [
        {
          "output_type": "stream",
          "name": "stdout",
          "text": [
            "Not connected to a GPU\n"
          ]
        }
      ],
      "source": [
        "# GPU information\n",
        "gpu_info = !nvidia-smi\n",
        "gpu_info = '\\n'.join(gpu_info)\n",
        "if gpu_info.find('failed') >= 0:\n",
        "  print('Not connected to a GPU')\n",
        "else:\n",
        "  print(gpu_info)"
      ]
    },
    {
      "cell_type": "markdown",
      "metadata": {
        "id": "-AYT0ru3XNlz"
      },
      "source": [
        "# Import Libraries"
      ]
    },
    {
      "cell_type": "code",
      "execution_count": null,
      "metadata": {
        "id": "SBIbt57ZXTki"
      },
      "outputs": [],
      "source": [
        "# import libraries\n",
        "from matplotlib import pyplot as plt\n",
        "import seaborn as sb\n",
        "\n",
        "from sklearn.metrics import accuracy_score, classification_report\n",
        "from sklearn.model_selection import train_test_split\n",
        "\n",
        "import numpy as np\n",
        "import pandas as pd\n",
        "import os\n",
        "#import random\n",
        "\n",
        "\n",
        "\n",
        "import tensorflow as tf\n",
        "import keras\n",
        "from keras.models import Sequential\n",
        "from keras.layers import Conv2D, MaxPooling2D, Flatten, Dense, Dropout\n",
        "#from keras import models\n",
        "from keras.models import load_model"
      ]
    },
    {
      "cell_type": "markdown",
      "metadata": {
        "id": "X6oL11w9XWc6"
      },
      "source": [
        "# Load the Dataset"
      ]
    },
    {
      "cell_type": "code",
      "execution_count": null,
      "metadata": {
        "colab": {
          "base_uri": "https://localhost:8080/"
        },
        "id": "IwESgJPDXZ09",
        "outputId": "2cc7c85f-4b92-47a4-8c6d-0e4d7f826132"
      },
      "outputs": [
        {
          "output_type": "stream",
          "name": "stdout",
          "text": [
            "Mounted at /content/drive\n",
            "/content/drive/MyDrive/Colab Notebooks/AML_22-23_SN19017126\n",
            "\n",
            "Current directory: \n",
            "\n",
            "A1  B1_CNN.h5\t\t\t     B2_CNN.h5\t   main.ipynb\n",
            "A2  B1_face_shape_recognition.ipynb  Datasets\t   __pycache__\n",
            "B1  B2\t\t\t\t     landmarks.py\n"
          ]
        }
      ],
      "source": [
        "#from os.path import join\n",
        "from google.colab import drive\n",
        "ROOT = \"/content/drive\"\n",
        "drive.mount(ROOT)\n",
        "\n",
        "# change directory to the database\n",
        "%cd '/content/drive/MyDrive/Colab Notebooks/AML_22-23_SN19017126'\n",
        "\n",
        "# list items\n",
        "print('\\nCurrent directory: \\n')\n",
        "!ls"
      ]
    },
    {
      "cell_type": "code",
      "execution_count": null,
      "metadata": {
        "colab": {
          "base_uri": "https://localhost:8080/"
        },
        "id": "ZHWO0p8Bj7sR",
        "outputId": "bb95eb8f-ee55-4fc0-9786-71d0a4843c46"
      },
      "outputs": [
        {
          "output_type": "stream",
          "name": "stdout",
          "text": [
            "     face_shape file_name\n",
            "0             4     0.png\n",
            "1             4     1.png\n",
            "2             3     2.png\n",
            "3             0     3.png\n",
            "4             2     4.png\n",
            "...         ...       ...\n",
            "9995          2  9995.png\n",
            "9996          3  9996.png\n",
            "9997          2  9997.png\n",
            "9998          2  9998.png\n",
            "9999          2  9999.png\n",
            "\n",
            "[10000 rows x 2 columns]\n",
            "Shape of y_train:  (10000, 2)\n"
          ]
        }
      ],
      "source": [
        "# extracting the eye_color label from cartoon dataset\n",
        "cartoon_label = pd.read_csv('./Datasets/cartoon_set/labels.csv', sep = '\\t')\n",
        "face_label = cartoon_label.drop(columns = [cartoon_label.columns[0]]).drop(columns = [cartoon_label.columns[1]])\n",
        "face_label['face_shape'] = face_label['face_shape'].apply(str)\n",
        "print(face_label)\n",
        "\n",
        "y_train = face_label\n",
        "print('Shape of y_train: ', y_train.shape)"
      ]
    },
    {
      "cell_type": "code",
      "execution_count": null,
      "metadata": {
        "id": "Am8dbjpEku6F"
      },
      "outputs": [],
      "source": [
        "# the link of the image \n",
        "cartoon_img = ('./Datasets/cartoon_set/img')"
      ]
    },
    {
      "cell_type": "code",
      "execution_count": null,
      "metadata": {
        "id": "qRpHkO0jr2ue"
      },
      "outputs": [],
      "source": [
        "# create data argumentation\n",
        "data_argumantation = tf.keras.preprocessing.image.ImageDataGenerator(\n",
        "    rescale = 1./255.,\n",
        "    validation_split = 0.25,\n",
        "    horizontal_flip=True,\n",
        "    vertical_flip=True,\n",
        "    rotation_range=90,\n",
        "    #width_shift_range=[-100, +100],\n",
        "    #height_shift_range=[-100, +100],\n",
        "    brightness_range=[0.5, 1.5],\n",
        "    #zoom_range=[0.5, 1.5]\n",
        ")"
      ]
    },
    {
      "cell_type": "code",
      "execution_count": null,
      "metadata": {
        "colab": {
          "base_uri": "https://localhost:8080/"
        },
        "id": "8qTJp5G8l4CF",
        "outputId": "3e8f1465-09ec-49bb-fdd2-027d4ef3de6f"
      },
      "outputs": [
        {
          "output_type": "stream",
          "name": "stdout",
          "text": [
            "Training Dataset: \n",
            "Found 7500 validated image filenames belonging to 5 classes.\n",
            "\n",
            "\n",
            "Validation Dataset: \n",
            "Found 2500 validated image filenames belonging to 5 classes.\n"
          ]
        }
      ],
      "source": [
        "# Generata batches of image dataset and labels for training\n",
        "print(\"Training Dataset: \")\n",
        "train_generator = data_argumantation.flow_from_dataframe(\n",
        "    \n",
        "        dataframe = y_train, \n",
        "        directory = cartoon_img,  #path to read images\n",
        "        x_col = \"file_name\", \n",
        "        y_col = \"face_shape\",\n",
        "        class_mode = 'categorical',  #must include the class of each image\n",
        "        target_size = (128, 128),  #(32,32),\n",
        "        batch_size = 128, \n",
        "        subset = 'training') \n",
        "   \n",
        "#  Generata batches of image dataset and labels for validation \n",
        "print(\"\\n\")\n",
        "print(\"Validation Dataset: \")\n",
        "validation_generator = data_argumantation.flow_from_dataframe(\n",
        "        dataframe = y_train, \n",
        "        directory = cartoon_img,  #path to read images\n",
        "        x_col = \"file_name\", \n",
        "        y_col = \"face_shape\",\n",
        "        class_mode = 'categorical',  #must include the class of each image\n",
        "        target_size = (128, 128),  #(32,32),\n",
        "        batch_size = 128, \n",
        "        subset = 'validation')"
      ]
    },
    {
      "cell_type": "markdown",
      "metadata": {
        "id": "w57P5fGsoNPr"
      },
      "source": [
        "# CNN"
      ]
    },
    {
      "cell_type": "code",
      "execution_count": null,
      "metadata": {
        "id": "DN-jpJ0zl37G"
      },
      "outputs": [],
      "source": [
        "# reset the model\n",
        "keras.backend.clear_session()\n",
        "\n",
        "# starting point \n",
        "cnn_model= Sequential()\n",
        "\n",
        "# Block 1\n",
        "# Add a convolutional layer with \n",
        "cnn_model.add(Conv2D(filters=16, kernel_size=3, padding=\"same\", activation=\"relu\", input_shape=(128,128,3)))\n",
        "# Add a max pooling layer with \n",
        "cnn_model.add(MaxPooling2D(pool_size=2, padding='same'))\n",
        "\n",
        "# Block 2\n",
        "# Add a convolutional layer with \n",
        "cnn_model.add(Conv2D(filters=32, kernel_size=3, padding=\"same\", activation=\"relu\"))\n",
        "# Add a max pooling layer with \n",
        "cnn_model.add(MaxPooling2D(pool_size=2, padding='same'))\n",
        "\n",
        "# Block 3\n",
        "# Add a convolutional layer with \n",
        "cnn_model.add(Conv2D(filters=64, kernel_size=3, padding=\"same\", activation=\"relu\"))\n",
        "# Add a max pooling layer with \n",
        "cnn_model.add(MaxPooling2D(pool_size=2, padding='same'))\n",
        "\n",
        "# Block 4\n",
        "# Add a convolutional layer with \n",
        "cnn_model.add(Conv2D(filters=128, kernel_size=3, padding=\"same\", activation=\"relu\"))\n",
        "# Add a max pooling layer with \n",
        "cnn_model.add(MaxPooling2D(pool_size=2, padding='same'))\n",
        "\n",
        "# Add a dropout layer with a rate of 0.5\n",
        "cnn_model.add(Dropout(0.5))\n",
        "\n",
        "# Flatten the output of the convolutional layers into a single vector\n",
        "cnn_model.add(Flatten())\n",
        "\n",
        "# Add a fully connected layer with 128 units and a ReLU activation function\n",
        "cnn_model.add(Dense(128, activation='relu'))\n",
        "\n",
        "# Add a final fully connected layer with a softmax activation function for classification\n",
        "num_classes = 5\n",
        "cnn_model.add(Dense(num_classes, activation='softmax'))\n",
        "\n",
        "# Compile the model with a categorical cross-entropy loss function and Adam optimization\n",
        "cnn_model.compile(loss=keras.losses.categorical_crossentropy, \n",
        "                  optimizer='adam', \n",
        "                  metrics=['accuracy'])\n"
      ]
    },
    {
      "cell_type": "code",
      "execution_count": null,
      "metadata": {
        "colab": {
          "base_uri": "https://localhost:8080/"
        },
        "id": "PuTc6Cq-xLua",
        "outputId": "c63a5f71-53d9-4d2e-cf99-4504ae059a7f"
      },
      "outputs": [
        {
          "output_type": "stream",
          "name": "stdout",
          "text": [
            "Model: \"sequential\"\n",
            "_________________________________________________________________\n",
            " Layer (type)                Output Shape              Param #   \n",
            "=================================================================\n",
            " conv2d (Conv2D)             (None, 128, 128, 16)      448       \n",
            "                                                                 \n",
            " max_pooling2d (MaxPooling2D  (None, 64, 64, 16)       0         \n",
            " )                                                               \n",
            "                                                                 \n",
            " conv2d_1 (Conv2D)           (None, 64, 64, 32)        4640      \n",
            "                                                                 \n",
            " max_pooling2d_1 (MaxPooling  (None, 32, 32, 32)       0         \n",
            " 2D)                                                             \n",
            "                                                                 \n",
            " conv2d_2 (Conv2D)           (None, 32, 32, 64)        18496     \n",
            "                                                                 \n",
            " max_pooling2d_2 (MaxPooling  (None, 16, 16, 64)       0         \n",
            " 2D)                                                             \n",
            "                                                                 \n",
            " conv2d_3 (Conv2D)           (None, 16, 16, 128)       73856     \n",
            "                                                                 \n",
            " max_pooling2d_3 (MaxPooling  (None, 8, 8, 128)        0         \n",
            " 2D)                                                             \n",
            "                                                                 \n",
            " dropout (Dropout)           (None, 8, 8, 128)         0         \n",
            "                                                                 \n",
            " flatten (Flatten)           (None, 8192)              0         \n",
            "                                                                 \n",
            " dense (Dense)               (None, 128)               1048704   \n",
            "                                                                 \n",
            " dense_1 (Dense)             (None, 5)                 645       \n",
            "                                                                 \n",
            "=================================================================\n",
            "Total params: 1,146,789\n",
            "Trainable params: 1,146,789\n",
            "Non-trainable params: 0\n",
            "_________________________________________________________________\n"
          ]
        }
      ],
      "source": [
        "# Print the summary of the model and the no. of trainable/non-trainable parameters\n",
        "cnn_model.summary()"
      ]
    },
    {
      "cell_type": "code",
      "execution_count": null,
      "metadata": {
        "colab": {
          "base_uri": "https://localhost:8080/"
        },
        "id": "mgH5fmKy2kCQ",
        "outputId": "2f390de1-6d66-456b-8732-65f52be9c4ff"
      },
      "outputs": [
        {
          "output_type": "stream",
          "name": "stdout",
          "text": [
            "Epoch 1/20\n",
            "58/58 [==============================] - 156s 3s/step - loss: 1.6096 - accuracy: 0.1968 - val_loss: 1.6096 - val_accuracy: 0.1953\n",
            "Epoch 2/20\n",
            "58/58 [==============================] - 151s 3s/step - loss: 1.6088 - accuracy: 0.2065 - val_loss: 1.6056 - val_accuracy: 0.2352\n",
            "Epoch 3/20\n",
            "58/58 [==============================] - 152s 3s/step - loss: 1.5759 - accuracy: 0.2664 - val_loss: 1.5142 - val_accuracy: 0.2965\n",
            "Epoch 4/20\n",
            "58/58 [==============================] - 152s 3s/step - loss: 1.4663 - accuracy: 0.3300 - val_loss: 1.4084 - val_accuracy: 0.3495\n",
            "Epoch 5/20\n",
            "58/58 [==============================] - 151s 3s/step - loss: 1.3685 - accuracy: 0.3762 - val_loss: 1.3329 - val_accuracy: 0.4128\n",
            "Epoch 6/20\n",
            "58/58 [==============================] - 152s 3s/step - loss: 1.2764 - accuracy: 0.4273 - val_loss: 1.1547 - val_accuracy: 0.5107\n",
            "Epoch 7/20\n",
            "58/58 [==============================] - 152s 3s/step - loss: 1.1552 - accuracy: 0.4985 - val_loss: 1.0126 - val_accuracy: 0.5905\n",
            "Epoch 8/20\n",
            "58/58 [==============================] - 151s 3s/step - loss: 1.0095 - accuracy: 0.5667 - val_loss: 0.8678 - val_accuracy: 0.6612\n",
            "Epoch 9/20\n",
            "58/58 [==============================] - 152s 3s/step - loss: 0.9025 - accuracy: 0.6286 - val_loss: 0.7745 - val_accuracy: 0.6826\n",
            "Epoch 10/20\n",
            "58/58 [==============================] - 153s 3s/step - loss: 0.8225 - accuracy: 0.6607 - val_loss: 0.6667 - val_accuracy: 0.7447\n",
            "Epoch 11/20\n",
            "58/58 [==============================] - 154s 3s/step - loss: 0.7435 - accuracy: 0.6972 - val_loss: 0.6271 - val_accuracy: 0.7710\n",
            "Epoch 12/20\n",
            "58/58 [==============================] - 153s 3s/step - loss: 0.6850 - accuracy: 0.7233 - val_loss: 0.5601 - val_accuracy: 0.7948\n",
            "Epoch 13/20\n",
            "58/58 [==============================] - 151s 3s/step - loss: 0.6140 - accuracy: 0.7519 - val_loss: 0.4812 - val_accuracy: 0.8199\n",
            "Epoch 14/20\n",
            "58/58 [==============================] - 153s 3s/step - loss: 0.5832 - accuracy: 0.7670 - val_loss: 0.4835 - val_accuracy: 0.8211\n",
            "Epoch 15/20\n",
            "58/58 [==============================] - 150s 3s/step - loss: 0.5497 - accuracy: 0.7872 - val_loss: 0.4232 - val_accuracy: 0.8639\n",
            "Epoch 16/20\n",
            "58/58 [==============================] - 149s 3s/step - loss: 0.4982 - accuracy: 0.8072 - val_loss: 0.3804 - val_accuracy: 0.8651\n",
            "Epoch 17/20\n",
            "58/58 [==============================] - 150s 3s/step - loss: 0.4802 - accuracy: 0.8163 - val_loss: 0.3636 - val_accuracy: 0.8729\n",
            "Epoch 18/20\n",
            "58/58 [==============================] - 152s 3s/step - loss: 0.4404 - accuracy: 0.8359 - val_loss: 0.3359 - val_accuracy: 0.8824\n",
            "Epoch 19/20\n",
            "58/58 [==============================] - 151s 3s/step - loss: 0.4314 - accuracy: 0.8352 - val_loss: 0.3072 - val_accuracy: 0.8923\n",
            "Epoch 20/20\n",
            "58/58 [==============================] - 153s 3s/step - loss: 0.4012 - accuracy: 0.8512 - val_loss: 0.2800 - val_accuracy: 0.9071\n"
          ]
        }
      ],
      "source": [
        "training_history = cnn_model.fit(\n",
        "                                train_generator,\n",
        "                                epochs=20,\n",
        "                                steps_per_epoch=train_generator.samples // train_generator.batch_size, \n",
        "                                validation_data=validation_generator,\n",
        "                                validation_steps=validation_generator.samples // validation_generator.batch_size\n",
        "                                )\n"
      ]
    },
    {
      "cell_type": "markdown",
      "metadata": {
        "id": "x2dM0GvprQuc"
      },
      "source": [
        "# Save the CNN model"
      ]
    },
    {
      "cell_type": "code",
      "execution_count": null,
      "metadata": {
        "id": "f3ILt-zlrQcm"
      },
      "outputs": [],
      "source": [
        "B1_CNN = 'B1_1_CNN.h5'\n",
        "\n",
        "cnn_model.save(B1_CNN)"
      ]
    },
    {
      "cell_type": "markdown",
      "metadata": {
        "id": "a3cdyMr1pyq3"
      },
      "source": [
        "# Evaludate on the Test Dataset"
      ]
    },
    {
      "cell_type": "code",
      "execution_count": null,
      "metadata": {
        "id": "4nrL4BwObR_8",
        "colab": {
          "base_uri": "https://localhost:8080/"
        },
        "outputId": "871cc5f2-6bd3-4aae-8fa2-9791520e13a5"
      },
      "outputs": [
        {
          "output_type": "stream",
          "name": "stdout",
          "text": [
            "     face_shape file_name\n",
            "0             1     0.png\n",
            "1             4     1.png\n",
            "2             2     2.png\n",
            "3             2     3.png\n",
            "4             3     4.png\n",
            "...         ...       ...\n",
            "2495          4  2495.png\n",
            "2496          4  2496.png\n",
            "2497          4  2497.png\n",
            "2498          4  2498.png\n",
            "2499          4  2499.png\n",
            "\n",
            "[2500 rows x 2 columns]\n"
          ]
        }
      ],
      "source": [
        "# extracting the test dataset\n",
        "cartoon_test_label = pd.read_csv('./Datasets/cartoon_set_test/labels.csv', sep = '\\t')\n",
        "face_test_label = cartoon_test_label.drop(columns = [cartoon_test_label.columns[0]]).drop(columns = [cartoon_test_label.columns[1]])\n",
        "face_test_label['face_shape'] = face_test_label['face_shape'].apply(str)\n",
        "print(face_test_label)"
      ]
    },
    {
      "cell_type": "code",
      "execution_count": null,
      "metadata": {
        "id": "OFRH5PFkpx6j"
      },
      "outputs": [],
      "source": [
        "# image path for new test images\n",
        "cartoon_test_img = ('./Datasets/cartoon_set_test/img')"
      ]
    },
    {
      "cell_type": "code",
      "execution_count": null,
      "metadata": {
        "id": "zl6f4SGfpx27",
        "colab": {
          "base_uri": "https://localhost:8080/"
        },
        "outputId": "b7ed484e-6bb2-42e6-9e35-7ccd6144bf9d"
      },
      "outputs": [
        {
          "output_type": "stream",
          "name": "stdout",
          "text": [
            "Found 2500 validated image filenames belonging to 5 classes.\n",
            "2500\n"
          ]
        }
      ],
      "source": [
        "test_generator = data_argumantation.flow_from_dataframe(\n",
        "        dataframe = face_test_label, \n",
        "        directory = cartoon_test_img,\n",
        "        x_col = \"file_name\", \n",
        "        y_col = \"face_shape\",\n",
        "        batch_size=1,\n",
        "        class_mode='categorical', \n",
        "        target_size=(128,128),\n",
        "        shuffle=False)\n",
        "test_steps = test_generator.samples\n",
        "print(test_steps)"
      ]
    },
    {
      "cell_type": "code",
      "execution_count": null,
      "metadata": {
        "id": "3ZFd3WDQ4ySI"
      },
      "outputs": [],
      "source": [
        "# testing model on new dataset\n",
        "B1_model = load_model(B1_CNN)"
      ]
    },
    {
      "cell_type": "code",
      "execution_count": null,
      "metadata": {
        "id": "dbx_NWzy72JG",
        "colab": {
          "base_uri": "https://localhost:8080/"
        },
        "outputId": "f37d0703-fb72-49f6-cb15-4eb77f325337"
      },
      "outputs": [
        {
          "output_type": "stream",
          "name": "stdout",
          "text": [
            "59/59 [==============================] - 94s 2s/step - loss: 0.2760 - accuracy: 0.9076\n",
            "Train loss: 0.27603575587272644\n",
            "Train Accuracy: 0.9075999855995178\n"
          ]
        }
      ],
      "source": [
        "# printing training loss and accuracy\n",
        "train_score = B1_model.evaluate(train_generator)\n",
        "\n",
        "print('Train loss: '+ str(train_score[0]))\n",
        "print('Train Accuracy: '+ str(train_score[1]))"
      ]
    },
    {
      "cell_type": "code",
      "execution_count": null,
      "metadata": {
        "id": "-VWqHkx88oT0",
        "colab": {
          "base_uri": "https://localhost:8080/"
        },
        "outputId": "4ec6c539-6b7c-44c1-f2de-235a6ee975ea"
      },
      "outputs": [
        {
          "output_type": "stream",
          "name": "stdout",
          "text": [
            "20/20 [==============================] - 32s 2s/step - loss: 0.2631 - accuracy: 0.9172\n",
            "Validation loss: 0.26313766837120056\n",
            "Validation Accuracy: 0.9172000288963318\n"
          ]
        }
      ],
      "source": [
        "# printing validation loss and accuracy\n",
        "valid_score = B1_model.evaluate(validation_generator)\n",
        "                                          \n",
        "print('Validation loss: '+ str(valid_score[0]))\n",
        "print('Validation Accuracy: '+ str(valid_score[1]))"
      ]
    },
    {
      "cell_type": "code",
      "execution_count": null,
      "metadata": {
        "id": "qPibUHxO0CfW",
        "colab": {
          "base_uri": "https://localhost:8080/"
        },
        "outputId": "21977350-d8a2-4fd1-d805-becd7e6a3a58"
      },
      "outputs": [
        {
          "output_type": "stream",
          "name": "stdout",
          "text": [
            "2500/2500 [==============================] - 496s 198ms/step\n"
          ]
        }
      ],
      "source": [
        "test_generator.reset()\n",
        "B1_pred = B1_model.predict(test_generator)\n",
        "\n",
        "# determine the maximum activation value for each sample\n",
        "B1_pred_cnn = np.argmax(B1_pred, axis=1)\n",
        "\n",
        "# label each predicted value to correct face shape\n",
        "labels = (test_generator.class_indices)\n",
        "labels = dict((v,k) for k,v in labels.items())\n",
        "predictions = [labels[k] for k in B1_pred_cnn]"
      ]
    },
    {
      "cell_type": "code",
      "execution_count": null,
      "metadata": {
        "id": "dyTpFlSl2jda"
      },
      "outputs": [],
      "source": [
        "accuracy_cnn = accuracy_score(test_generator.classes, B1_pred_cnn)"
      ]
    },
    {
      "cell_type": "code",
      "execution_count": null,
      "metadata": {
        "id": "Fzc67EFz0na9",
        "colab": {
          "base_uri": "https://localhost:8080/"
        },
        "outputId": "0dea682c-e6d1-4e2c-f34f-2217e80158ab"
      },
      "outputs": [
        {
          "output_type": "stream",
          "name": "stdout",
          "text": [
            "              precision    recall  f1-score   support\n",
            "\n",
            "           0       0.93      0.87      0.90       500\n",
            "           1       0.81      0.86      0.84       500\n",
            "           2       0.94      0.95      0.94       500\n",
            "           3       0.88      0.88      0.88       500\n",
            "           4       0.96      0.95      0.95       500\n",
            "\n",
            "    accuracy                           0.90      2500\n",
            "   macro avg       0.90      0.90      0.90      2500\n",
            "weighted avg       0.90      0.90      0.90      2500\n",
            "\n",
            "Accuracy of CNN model: 90.32%\n"
          ]
        }
      ],
      "source": [
        "print(classification_report(test_generator.classes, B1_pred_cnn ))\n",
        "print(\"Accuracy of CNN model: {:.2f}%\".format(accuracy_cnn*100))"
      ]
    },
    {
      "cell_type": "code",
      "execution_count": null,
      "metadata": {
        "id": "UsDaBddb8Kb0"
      },
      "outputs": [],
      "source": []
    }
  ],
  "metadata": {
    "colab": {
      "machine_shape": "hm",
      "provenance": []
    },
    "gpuClass": "standard",
    "kernelspec": {
      "display_name": "Python 3",
      "name": "python3"
    },
    "language_info": {
      "name": "python"
    }
  },
  "nbformat": 4,
  "nbformat_minor": 0
}
